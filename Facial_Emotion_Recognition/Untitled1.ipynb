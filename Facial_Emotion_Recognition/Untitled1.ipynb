{
 "cells": [
  {
   "cell_type": "code",
   "execution_count": 9,
   "id": "9629a793-ca15-4aba-b9f9-bc962d95a100",
   "metadata": {},
   "outputs": [],
   "source": [
    "import torch\n",
    "from transformers import AutoTokenizer, AutoModelForSequenceClassification, pipeline\n",
    "import matplotlib.pyplot as plt\n"
   ]
  },
  {
   "cell_type": "markdown",
   "id": "4d0ba332-365c-41de-bcc3-5d4f4f0a2834",
   "metadata": {},
   "source": [
    "model_name = \"SamLowe/roberta-base-go_emotions\""
   ]
  },
  {
   "cell_type": "code",
   "execution_count": 5,
   "id": "617796fb-879c-44f0-b61f-22ff9a3faa44",
   "metadata": {},
   "outputs": [
    {
     "name": "stderr",
     "output_type": "stream",
     "text": [
      "<>:3: SyntaxWarning: invalid escape sequence '\\E'\n",
      "<>:3: SyntaxWarning: invalid escape sequence '\\E'\n",
      "C:\\Users\\HP\\AppData\\Local\\Temp\\ipykernel_1516\\1179965385.py:3: SyntaxWarning: invalid escape sequence '\\E'\n",
      "  tokenizer.save_pretrained(\"D:\\Emotion_detection\\Facial-Emotion-Recognition-using-OpenCV-and-Deepface\\Tokenizer\")\n"
     ]
    },
    {
     "data": {
      "text/plain": [
       "('D:\\\\Emotion_detection\\\\Facial-Emotion-Recognition-using-OpenCV-and-Deepface\\\\Tokenizer\\\\tokenizer_config.json',\n",
       " 'D:\\\\Emotion_detection\\\\Facial-Emotion-Recognition-using-OpenCV-and-Deepface\\\\Tokenizer\\\\special_tokens_map.json',\n",
       " 'D:\\\\Emotion_detection\\\\Facial-Emotion-Recognition-using-OpenCV-and-Deepface\\\\Tokenizer\\\\vocab.json',\n",
       " 'D:\\\\Emotion_detection\\\\Facial-Emotion-Recognition-using-OpenCV-and-Deepface\\\\Tokenizer\\\\merges.txt',\n",
       " 'D:\\\\Emotion_detection\\\\Facial-Emotion-Recognition-using-OpenCV-and-Deepface\\\\Tokenizer\\\\added_tokens.json',\n",
       " 'D:\\\\Emotion_detection\\\\Facial-Emotion-Recognition-using-OpenCV-and-Deepface\\\\Tokenizer\\\\tokenizer.json')"
      ]
     },
     "execution_count": 5,
     "metadata": {},
     "output_type": "execute_result"
    }
   ],
   "source": [
    "model_name = \"SamLowe/roberta-base-go_emotions\"\n",
    "tokenizer = AutoTokenizer.from_pretrained(model_name)\n",
    "tokenizer.save_pretrained(\"D:\\Emotion_detection\\Facial-Emotion-Recognition-using-OpenCV-and-Deepface\\Tokenizer\")"
   ]
  },
  {
   "cell_type": "code",
   "execution_count": 8,
   "id": "e84fed20-b088-41f4-a7cb-9a5a3240914f",
   "metadata": {},
   "outputs": [
    {
     "name": "stderr",
     "output_type": "stream",
     "text": [
      "<>:2: SyntaxWarning: invalid escape sequence '\\E'\n",
      "<>:2: SyntaxWarning: invalid escape sequence '\\E'\n",
      "C:\\Users\\HP\\AppData\\Local\\Temp\\ipykernel_1516\\2792282014.py:2: SyntaxWarning: invalid escape sequence '\\E'\n",
      "  tokenizer.save_pretrained(\"D:\\Emotion_detection\\Facial-Emotion-Recognition-using-OpenCV-and-Deepface\\Tokenizer\\model\")\n"
     ]
    },
    {
     "data": {
      "application/vnd.jupyter.widget-view+json": {
       "model_id": "d692f4cedcda40cfad1d3deed3e472ed",
       "version_major": 2,
       "version_minor": 0
      },
      "text/plain": [
       "config.json:   0%|          | 0.00/1.92k [00:00<?, ?B/s]"
      ]
     },
     "metadata": {},
     "output_type": "display_data"
    },
    {
     "data": {
      "application/vnd.jupyter.widget-view+json": {
       "model_id": "27f9322e67034764aee9bf7e8c48d51c",
       "version_major": 2,
       "version_minor": 0
      },
      "text/plain": [
       "model.safetensors:   0%|          | 0.00/499M [00:00<?, ?B/s]"
      ]
     },
     "metadata": {},
     "output_type": "display_data"
    },
    {
     "name": "stderr",
     "output_type": "stream",
     "text": [
      "If you want to use `RobertaLMHeadModel` as a standalone, add `is_decoder=True.`\n",
      "Some weights of RobertaForCausalLM were not initialized from the model checkpoint at SamLowe/roberta-base-go_emotions and are newly initialized: ['lm_head.bias', 'lm_head.decoder.bias', 'lm_head.dense.bias', 'lm_head.dense.weight', 'lm_head.layer_norm.bias', 'lm_head.layer_norm.weight']\n",
      "You should probably TRAIN this model on a down-stream task to be able to use it for predictions and inference.\n"
     ]
    }
   ],
   "source": [
    "tokenizer = AutoModelForCausalLM.from_pretrained(model_name)\n",
    "tokenizer.save_pretrained(\"D:\\Emotion_detection\\Facial-Emotion-Recognition-using-OpenCV-and-Deepface\\Tokenizer\\model\")"
   ]
  },
  {
   "cell_type": "code",
   "execution_count": null,
   "id": "ea3cdbb7-45a8-438b-afc2-c378dd62f950",
   "metadata": {},
   "outputs": [],
   "source": []
  }
 ],
 "metadata": {
  "kernelspec": {
   "display_name": "Python 3 (ipykernel)",
   "language": "python",
   "name": "python3"
  },
  "language_info": {
   "codemirror_mode": {
    "name": "ipython",
    "version": 3
   },
   "file_extension": ".py",
   "mimetype": "text/x-python",
   "name": "python",
   "nbconvert_exporter": "python",
   "pygments_lexer": "ipython3",
   "version": "3.12.4"
  }
 },
 "nbformat": 4,
 "nbformat_minor": 5
}
