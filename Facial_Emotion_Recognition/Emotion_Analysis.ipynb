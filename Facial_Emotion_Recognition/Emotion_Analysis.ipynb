{
 "cells": [
  {
   "cell_type": "code",
   "execution_count": 26,
   "id": "23e9fb76-4891-48c1-9edd-c832474985cf",
   "metadata": {},
   "outputs": [],
   "source": [
    "import torch\n",
    "from transformers import AutoTokenizer, AutoModelForSequenceClassification, pipeline\n",
    "import matplotlib.pyplot as plt\n"
   ]
  },
  {
   "cell_type": "code",
   "execution_count": 27,
   "id": "ccdbbfba-676b-479d-9be7-6bf500942b91",
   "metadata": {},
   "outputs": [
    {
     "name": "stderr",
     "output_type": "stream",
     "text": [
      "C:\\Users\\HP\\AppData\\Local\\Programs\\Python\\Python312\\Lib\\site-packages\\transformers\\tokenization_utils_base.py:1617: FutureWarning: `clean_up_tokenization_spaces` was not set. It will be set to `True` by default. This behavior will be deprecated in transformers v4.45, and will be then set to `False` by default. For more details check this issue: https://github.com/huggingface/transformers/issues/31884\n",
      "  warnings.warn(\n"
     ]
    }
   ],
   "source": [
    "# Define the model name\n",
    "model_name = \"SamLowe/roberta-base-go_emotions\"\n",
    "\n",
    "# Load the tokenizer\n",
    "tokenizer = AutoTokenizer.from_pretrained(model_name)\n",
    "\n",
    "# Load the pre-trained model\n",
    "model = AutoModelForSequenceClassification.from_pretrained(model_name)\n"
   ]
  },
  {
   "cell_type": "code",
   "execution_count": 28,
   "id": "71e1ee83-f6b0-4099-aa29-f6a24bb6222d",
   "metadata": {},
   "outputs": [
    {
     "name": "stdout",
     "output_type": "stream",
     "text": [
      "Number of emotion labels: 28\n",
      "Emotion Labels:\n",
      "- admiration\n",
      "- amusement\n",
      "- anger\n",
      "- annoyance\n",
      "- approval\n",
      "- caring\n",
      "- confusion\n",
      "- curiosity\n",
      "- desire\n",
      "- disappointment\n",
      "- disapproval\n",
      "- disgust\n",
      "- embarrassment\n",
      "- excitement\n",
      "- fear\n",
      "- gratitude\n",
      "- grief\n",
      "- joy\n",
      "- love\n",
      "- nervousness\n",
      "- optimism\n",
      "- pride\n",
      "- realization\n",
      "- relief\n",
      "- remorse\n",
      "- sadness\n",
      "- surprise\n",
      "- neutral\n"
     ]
    }
   ],
   "source": [
    "# List of emotion labels in the GoEmotions dataset\n",
    "emotion_labels = [\n",
    "    'admiration', 'amusement', 'anger', 'annoyance', 'approval',\n",
    "    'caring', 'confusion', 'curiosity', 'desire', 'disappointment',\n",
    "    'disapproval', 'disgust', 'embarrassment', 'excitement', 'fear',\n",
    "    'gratitude', 'grief', 'joy', 'love', 'nervousness',\n",
    "    'optimism', 'pride', 'realization', 'relief', 'remorse',\n",
    "    'sadness', 'surprise', 'neutral'\n",
    "]\n",
    "\n",
    "print(f\"Number of emotion labels: {len(emotion_labels)}\")\n",
    "print(\"Emotion Labels:\")\n",
    "for label in emotion_labels:\n",
    "    print(f\"- {label}\")\n"
   ]
  },
  {
   "cell_type": "code",
   "execution_count": 29,
   "id": "7a37679c-8951-4894-8239-bb7932d22afc",
   "metadata": {},
   "outputs": [],
   "source": [
    "def filter_emotions(emotion_scores, threshold=0.1, exclude_neutral=True):\n",
    "    \"\"\"\n",
    "    Filters emotions based on a threshold and optionally excludes 'neutral'.\n",
    "\n",
    "    Parameters:\n",
    "    - emotion_scores (list): List of dictionaries with 'label' and 'score'.\n",
    "    - threshold (float): Minimum score to consider an emotion active.\n",
    "    - exclude_neutral (bool): Whether to exclude the 'neutral' emotion.\n",
    "\n",
    "    Returns:\n",
    "    - List of tuples containing (emotion_label, score).\n",
    "    \"\"\"\n",
    "    active_emotions = []\n",
    "    if not isinstance(emotion_scores, list):\n",
    "        print(\"Error: emotion_scores is not a list.\")\n",
    "        return active_emotions\n",
    "\n",
    "    for emotion in emotion_scores:\n",
    "        if not isinstance(emotion, dict):\n",
    "            print(f\"Error: Expected a dict, got {type(emotion)} instead.\")\n",
    "            continue\n",
    "        if exclude_neutral and emotion.get('label') == 'neutral':\n",
    "            continue\n",
    "        score = emotion.get('score', 0)\n",
    "        label = emotion.get('label', None)\n",
    "        if label is None:\n",
    "            print(\"Error: 'label' key not found in emotion.\")\n",
    "            continue\n",
    "        if score >= threshold:\n",
    "            active_emotions.append((label, score))\n",
    "    return active_emotions\n"
   ]
  },
  {
   "cell_type": "code",
   "execution_count": 30,
   "id": "43e13de2-93a7-4657-8382-8efe823d524a",
   "metadata": {},
   "outputs": [],
   "source": [
    "def plot_emotion_pie_chart(emotions):\n",
    "    \"\"\"\n",
    "    Plots a pie chart for the detected emotions.\n",
    "\n",
    "    Parameters:\n",
    "    - emotions (list): List of tuples containing (emotion_label, score).\n",
    "    \"\"\"\n",
    "    if not emotions:\n",
    "        print(\"No emotions to plot.\")\n",
    "        return\n",
    "    \n",
    "    # Separate labels and scores\n",
    "    labels, scores = zip(*emotions)\n",
    "\n",
    "    # Create the pie chart\n",
    "    plt.figure(figsize=(10, 6))\n",
    "    plt.pie(scores, labels=labels, autopct='%1.1f%%', startangle=90)\n",
    "    plt.title(\"Detected Emotions\")\n",
    "    plt.axis('equal')  # Equal aspect ratio ensures that pie is drawn as a circle.\n",
    "\n",
    "    # Show the pie chart\n",
    "    plt.show()\n"
   ]
  },
  {
   "cell_type": "code",
   "execution_count": 31,
   "id": "99c4599a-993f-44c4-9a5e-640285bbf87d",
   "metadata": {},
   "outputs": [
    {
     "name": "stderr",
     "output_type": "stream",
     "text": [
      "C:\\Users\\HP\\AppData\\Local\\Programs\\Python\\Python312\\Lib\\site-packages\\transformers\\pipelines\\text_classification.py:104: UserWarning: `return_all_scores` is now deprecated,  if want a similar functionality use `top_k=None` instead of `return_all_scores=True` or `top_k=1` instead of `return_all_scores=False`.\n",
      "  warnings.warn(\n"
     ]
    }
   ],
   "source": [
    "# Initialize the emotion classification pipeline\n",
    "emotion_classifier = pipeline(\n",
    "    \"text-classification\",\n",
    "    model=model,\n",
    "    tokenizer=tokenizer,\n",
    "    return_all_scores=True,      # Returns scores for all labels\n",
    "    function_to_apply='sigmoid'  # For multi-label classification\n",
    ")\n"
   ]
  },
  {
   "cell_type": "code",
   "execution_count": 32,
   "id": "b378183a-eb42-4304-ad1d-44706b09b4ed",
   "metadata": {},
   "outputs": [],
   "source": [
    "def analyze_user_text():\n",
    "    \"\"\"\n",
    "    Prompts the user to input text and analyzes the emotions present.\n",
    "    Continues to prompt until the user decides to exit.\n",
    "    \"\"\"\n",
    "    print(\"=== Emotion Detection Chatbot ===\")\n",
    "    print(\"Type 'exit' to quit.\\n\")\n",
    "    \n",
    "    while True:\n",
    "        # Prompt user for input\n",
    "        user_text = input(\"You: \")\n",
    "        \n",
    "        # Exit condition\n",
    "        if user_text.lower() == 'exit':\n",
    "            print(\"Chatbot: Goodbye!\")\n",
    "            break\n",
    "        \n",
    "        # Perform emotion analysis\n",
    "        results = emotion_classifier(user_text)\n",
    "        \n",
    "        # Process emotions\n",
    "        active_emotions = filter_emotions(results[0], threshold=0.1)\n",
    "        \n",
    "        # Display results\n",
    "        if active_emotions:\n",
    "            print(\"Chatbot: Detected Emotions:\")\n",
    "            for label, score in active_emotions:\n",
    "                print(f\"  - {label}: {score:.4f}\")\n",
    "            \n",
    "            # Plot the pie chart\n",
    "            plot_emotion_pie_chart(active_emotions)\n",
    "        else:\n",
    "            print(\"Chatbot: No significant emotions detected.\")\n",
    "        \n",
    "        print(\"\\n\")\n"
   ]
  },
  {
   "cell_type": "code",
   "execution_count": 33,
   "id": "dbc36c49-ddb2-4fd4-a48a-ded38a25548b",
   "metadata": {},
   "outputs": [
    {
     "name": "stdout",
     "output_type": "stream",
     "text": [
      "=== Emotion Detection Chatbot ===\n",
      "Type 'exit' to quit.\n",
      "\n"
     ]
    },
    {
     "name": "stdin",
     "output_type": "stream",
     "text": [
      "You:  Fuck off\n"
     ]
    },
    {
     "name": "stdout",
     "output_type": "stream",
     "text": [
      "Chatbot: Detected Emotions:\n",
      "  - anger: 0.8082\n"
     ]
    },
    {
     "data": {
      "image/png": "[encoded data removed]",
      "text/plain": [
       "<Figure size 1000x600 with 1 Axes>"
      ]
     },
     "metadata": {},
     "output_type": "display_data"
    },
    {
     "name": "stdout",
     "output_type": "stream",
     "text": [
      "\n",
      "\n"
     ]
    },
    {
     "name": "stdin",
     "output_type": "stream",
     "text": [
      "You:  The sun dipped below the horizon, casting a golden glow that filled her heart with warmth, yet the approaching darkness stirred an unfamiliar chill of anxiety. She smiled, recalling a moment of joy shared with loved ones, but tears welled up as the weight of past regrets quietly surfaced. Her chest tightened with hope for the future, though uncertainty clouded her mind, leaving her unsure of the path ahead. In that fleeting instant, a bittersweet symphony of emotions swirled within, a delicate dance of happiness, sorrow, hope, and fear.\n"
     ]
    },
    {
     "name": "stdout",
     "output_type": "stream",
     "text": [
      "Chatbot: Detected Emotions:\n",
      "  - caring: 0.1235\n",
      "  - joy: 0.2324\n",
      "  - nervousness: 0.4184\n",
      "  - sadness: 0.2497\n"
     ]
    },
    {
     "data": {
      "image/png": "[encoded data removed]",
      "text/plain": [
       "<Figure size 1000x600 with 1 Axes>"
      ]
     },
     "metadata": {},
     "output_type": "display_data"
    },
    {
     "name": "stdout",
     "output_type": "stream",
     "text": [
      "\n",
      "\n"
     ]
    },
    {
     "name": "stdin",
     "output_type": "stream",
     "text": [
      "You:  exit\n"
     ]
    },
    {
     "name": "stdout",
     "output_type": "stream",
     "text": [
      "Chatbot: Goodbye!\n"
     ]
    }
   ],
   "source": [
    "analyze_user_text()\n"
   ]
  },
  {
   "cell_type": "code",
   "execution_count": null,
   "id": "2371d4ce-240c-47d6-b658-5a39b52b7d50",
   "metadata": {},
   "outputs": [],
   "source": []
  }
 ],
 "metadata": {
  "kernelspec": {
   "display_name": "Python 3 (ipykernel)",
   "language": "python",
   "name": "python3"
  },
  "language_info": {
   "codemirror_mode": {
    "name": "ipython",
    "version": 3
   },
   "file_extension": ".py",
   "mimetype": "text/x-python",
   "name": "python",
   "nbconvert_exporter": "python",
   "pygments_lexer": "ipython3",
   "version": "3.12.4"
  }
 },
 "nbformat": 4,
 "nbformat_minor": 5
}
